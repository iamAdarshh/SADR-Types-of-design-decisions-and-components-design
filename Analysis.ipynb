{
 "cells": [
  {
   "metadata": {
    "ExecuteTime": {
     "end_time": "2024-10-27T18:45:43.229442Z",
     "start_time": "2024-10-27T18:45:42.925976Z"
    }
   },
   "cell_type": "code",
   "source": [
    "import pandas as pd\n",
    "\n",
    "from Repository_Reader import commit_details"
   ],
   "id": "322126251418c4c3",
   "outputs": [],
   "execution_count": 4
  },
  {
   "metadata": {
    "collapsed": true,
    "ExecuteTime": {
     "end_time": "2024-10-27T18:45:18.827289Z",
     "start_time": "2024-10-27T18:45:18.822073Z"
    }
   },
   "cell_type": "code",
   "outputs": [],
   "execution_count": 3,
   "source": "from Constants import Issues_File_Path, Commit_Deatails_File_Path, Issue_Details_File_Path",
   "id": "initial_id"
  },
  {
   "metadata": {
    "ExecuteTime": {
     "end_time": "2024-10-27T18:48:09.646756Z",
     "start_time": "2024-10-27T18:48:09.611448Z"
    }
   },
   "cell_type": "code",
   "source": [
    "issues_df = pd.read_csv(Issues_File_Path, delimiter=';')\n",
    "issuses_details_df = pd.read_excel(Issue_Details_File_Path)\n",
    "commit_details_df = pd.read_excel(Commit_Deatails_File_Path)"
   ],
   "id": "d8b8b3ef8715044d",
   "outputs": [],
   "execution_count": 15
  },
  {
   "metadata": {
    "ExecuteTime": {
     "end_time": "2024-10-27T19:08:52.861952Z",
     "start_time": "2024-10-27T19:08:52.854967Z"
    }
   },
   "cell_type": "code",
   "source": "issues_df",
   "id": "35a01d0a7fc2bc66",
   "outputs": [
    {
     "data": {
      "text/plain": [
       "            key  parent key  description size  comments size\n",
       "0    AXIS2-6002         NaN                79            179\n",
       "1    AXIS2-5846         NaN               814           3145\n",
       "2    AXIS2-4906         NaN               400              0\n",
       "3    AXIS2-4739         NaN              1007           1013\n",
       "4    AXIS2-4509         NaN               286            440\n",
       "..          ...         ...               ...            ...\n",
       "104  AXIS2-2456         NaN               906             84\n",
       "105  AXIS2-1623         NaN              1012             64\n",
       "106  AXIS2-1601         NaN              1167              0\n",
       "107   AXIS2-921         NaN               725            304\n",
       "108   AXIS2-881         NaN               581             99\n",
       "\n",
       "[109 rows x 4 columns]"
      ],
      "text/html": [
       "<div>\n",
       "<style scoped>\n",
       "    .dataframe tbody tr th:only-of-type {\n",
       "        vertical-align: middle;\n",
       "    }\n",
       "\n",
       "    .dataframe tbody tr th {\n",
       "        vertical-align: top;\n",
       "    }\n",
       "\n",
       "    .dataframe thead th {\n",
       "        text-align: right;\n",
       "    }\n",
       "</style>\n",
       "<table border=\"1\" class=\"dataframe\">\n",
       "  <thead>\n",
       "    <tr style=\"text-align: right;\">\n",
       "      <th></th>\n",
       "      <th>key</th>\n",
       "      <th>parent key</th>\n",
       "      <th>description size</th>\n",
       "      <th>comments size</th>\n",
       "    </tr>\n",
       "  </thead>\n",
       "  <tbody>\n",
       "    <tr>\n",
       "      <th>0</th>\n",
       "      <td>AXIS2-6002</td>\n",
       "      <td>NaN</td>\n",
       "      <td>79</td>\n",
       "      <td>179</td>\n",
       "    </tr>\n",
       "    <tr>\n",
       "      <th>1</th>\n",
       "      <td>AXIS2-5846</td>\n",
       "      <td>NaN</td>\n",
       "      <td>814</td>\n",
       "      <td>3145</td>\n",
       "    </tr>\n",
       "    <tr>\n",
       "      <th>2</th>\n",
       "      <td>AXIS2-4906</td>\n",
       "      <td>NaN</td>\n",
       "      <td>400</td>\n",
       "      <td>0</td>\n",
       "    </tr>\n",
       "    <tr>\n",
       "      <th>3</th>\n",
       "      <td>AXIS2-4739</td>\n",
       "      <td>NaN</td>\n",
       "      <td>1007</td>\n",
       "      <td>1013</td>\n",
       "    </tr>\n",
       "    <tr>\n",
       "      <th>4</th>\n",
       "      <td>AXIS2-4509</td>\n",
       "      <td>NaN</td>\n",
       "      <td>286</td>\n",
       "      <td>440</td>\n",
       "    </tr>\n",
       "    <tr>\n",
       "      <th>...</th>\n",
       "      <td>...</td>\n",
       "      <td>...</td>\n",
       "      <td>...</td>\n",
       "      <td>...</td>\n",
       "    </tr>\n",
       "    <tr>\n",
       "      <th>104</th>\n",
       "      <td>AXIS2-2456</td>\n",
       "      <td>NaN</td>\n",
       "      <td>906</td>\n",
       "      <td>84</td>\n",
       "    </tr>\n",
       "    <tr>\n",
       "      <th>105</th>\n",
       "      <td>AXIS2-1623</td>\n",
       "      <td>NaN</td>\n",
       "      <td>1012</td>\n",
       "      <td>64</td>\n",
       "    </tr>\n",
       "    <tr>\n",
       "      <th>106</th>\n",
       "      <td>AXIS2-1601</td>\n",
       "      <td>NaN</td>\n",
       "      <td>1167</td>\n",
       "      <td>0</td>\n",
       "    </tr>\n",
       "    <tr>\n",
       "      <th>107</th>\n",
       "      <td>AXIS2-921</td>\n",
       "      <td>NaN</td>\n",
       "      <td>725</td>\n",
       "      <td>304</td>\n",
       "    </tr>\n",
       "    <tr>\n",
       "      <th>108</th>\n",
       "      <td>AXIS2-881</td>\n",
       "      <td>NaN</td>\n",
       "      <td>581</td>\n",
       "      <td>99</td>\n",
       "    </tr>\n",
       "  </tbody>\n",
       "</table>\n",
       "<p>109 rows × 4 columns</p>\n",
       "</div>"
      ]
     },
     "execution_count": 19,
     "metadata": {},
     "output_type": "execute_result"
    }
   ],
   "execution_count": 19
  },
  {
   "metadata": {
    "ExecuteTime": {
     "end_time": "2024-10-27T18:49:01.386482Z",
     "start_time": "2024-10-27T18:49:01.383121Z"
    }
   },
   "cell_type": "code",
   "source": "print('Count: ', issues_df['key'].count())",
   "id": "76b76330d5f9ac71",
   "outputs": [
    {
     "name": "stdout",
     "output_type": "stream",
     "text": [
      "Count:  109\n"
     ]
    }
   ],
   "execution_count": 18
  },
  {
   "metadata": {},
   "cell_type": "code",
   "outputs": [],
   "execution_count": null,
   "source": "",
   "id": "a9720614d1bc8239"
  }
 ],
 "metadata": {
  "kernelspec": {
   "display_name": "Python 3",
   "language": "python",
   "name": "python3"
  },
  "language_info": {
   "codemirror_mode": {
    "name": "ipython",
    "version": 2
   },
   "file_extension": ".py",
   "mimetype": "text/x-python",
   "name": "python",
   "nbconvert_exporter": "python",
   "pygments_lexer": "ipython2",
   "version": "2.7.6"
  }
 },
 "nbformat": 4,
 "nbformat_minor": 5
}
